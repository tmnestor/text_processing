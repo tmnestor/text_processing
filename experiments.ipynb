{
 "cells": [
  {
   "cell_type": "code",
   "execution_count": 1,
   "metadata": {},
   "outputs": [
    {
     "name": "stdout",
     "output_type": "stream",
     "text": [
      "This sentence contains dog and pet but not cat.\n",
      "found\n"
     ]
    }
   ],
   "source": [
    "import re\n",
    "\n",
    "def replace_string(text):\n",
    "    # Compiled regex pattern with lookahead assertions\n",
    "    pattern = re.compile(r'(?=.*\\bdog\\b)(?=.*\\bpet\\b)(?!.*\\bcat\\b).*')\n",
    "    # Replace matching string with \"found\"\n",
    "    return pattern.sub('found', text)\n",
    "\n",
    "# Example usage\n",
    "text_with_cat = \"This sentence contains dog and pet but not cat.\"\n",
    "result = replace_string(text_with_cat)\n",
    "print(result)  # Output will be 'This sentence contains dog and pet but not cat.'\n",
    "\n",
    "text_without_cat = \"This sentence contains dog and pet.\"\n",
    "result = replace_string(text_without_cat)\n",
    "print(result)  # Output will be 'found'"
   ]
  },
  {
   "cell_type": "code",
   "execution_count": 44,
   "metadata": {},
   "outputs": [
    {
     "name": "stdout",
     "output_type": "stream",
     "text": [
      "Loaded regex rules: regex_rules:\n",
      "- description: strip quotes\n",
      "  pattern: '\"'\n",
      "  replace_with: ''\n",
      "- description: strip hash symbols\n",
      "  pattern: '#'\n",
      "  replace_with: ''\n",
      "- description: match hash followed by 2 or more digits\n",
      "  pattern: '#\\d{2,}'\n",
      "  replace_with: invoice_number\n",
      "\n",
      "Testing: strip quotes\n",
      "Applying regex pattern: \"\n",
      "Applying regex pattern: #\n",
      "Applying regex pattern: #\\d{2,}\n",
      "Result: This is a test string.\n",
      "Testing: strip hash symbols\n",
      "Applying regex pattern: \"\n",
      "Applying regex pattern: #\n",
      "Applying regex pattern: #\\d{2,}\n",
      "Result: This is a test string.\n",
      "Testing: match # followed by 2 or more digits\n",
      "Applying regex pattern: \"\n",
      "Applying regex pattern: #\n",
      "Applying regex pattern: #\\d{2,}\n",
      "Result: Ticket 123456 and reference 78\n"
     ]
    },
    {
     "ename": "AssertionError",
     "evalue": "Failed match # followed by 2 or more digits: expected 'Ticket NUMBER and reference NUMBER', got 'Ticket 123456 and reference 78'",
     "output_type": "error",
     "traceback": [
      "\u001b[0;31m---------------------------------------------------------------------------\u001b[0m",
      "\u001b[0;31mAssertionError\u001b[0m                            Traceback (most recent call last)",
      "Cell \u001b[0;32mIn[44], line 45\u001b[0m\n\u001b[1;32m     42\u001b[0m     \u001b[38;5;28mprint\u001b[39m(\u001b[38;5;124m\"\u001b[39m\u001b[38;5;124mAll tests passed!\u001b[39m\u001b[38;5;124m\"\u001b[39m)\n\u001b[1;32m     44\u001b[0m \u001b[38;5;28;01mif\u001b[39;00m \u001b[38;5;18m__name__\u001b[39m \u001b[38;5;241m==\u001b[39m \u001b[38;5;124m\"\u001b[39m\u001b[38;5;124m__main__\u001b[39m\u001b[38;5;124m\"\u001b[39m:\n\u001b[0;32m---> 45\u001b[0m     \u001b[43mtest_regex_rules\u001b[49m\u001b[43m(\u001b[49m\u001b[43m)\u001b[49m\n",
      "Cell \u001b[0;32mIn[44], line 40\u001b[0m, in \u001b[0;36mtest_regex_rules\u001b[0;34m()\u001b[0m\n\u001b[1;32m     38\u001b[0m     result \u001b[38;5;241m=\u001b[39m apply_regex_rules(regex_rules, test[\u001b[38;5;124m'\u001b[39m\u001b[38;5;124minput\u001b[39m\u001b[38;5;124m'\u001b[39m])\n\u001b[1;32m     39\u001b[0m     \u001b[38;5;28mprint\u001b[39m(\u001b[38;5;124mf\u001b[39m\u001b[38;5;124m\"\u001b[39m\u001b[38;5;124mResult: \u001b[39m\u001b[38;5;132;01m{\u001b[39;00mresult\u001b[38;5;132;01m}\u001b[39;00m\u001b[38;5;124m\"\u001b[39m)  \u001b[38;5;66;03m# Debugging output\u001b[39;00m\n\u001b[0;32m---> 40\u001b[0m     \u001b[38;5;28;01massert\u001b[39;00m result \u001b[38;5;241m==\u001b[39m test[\u001b[38;5;124m'\u001b[39m\u001b[38;5;124mexpected\u001b[39m\u001b[38;5;124m'\u001b[39m], \u001b[38;5;124mf\u001b[39m\u001b[38;5;124m\"\u001b[39m\u001b[38;5;124mFailed \u001b[39m\u001b[38;5;132;01m{\u001b[39;00mtest[\u001b[38;5;124m'\u001b[39m\u001b[38;5;124mdescription\u001b[39m\u001b[38;5;124m'\u001b[39m]\u001b[38;5;132;01m}\u001b[39;00m\u001b[38;5;124m: expected \u001b[39m\u001b[38;5;124m'\u001b[39m\u001b[38;5;132;01m{\u001b[39;00mtest[\u001b[38;5;124m'\u001b[39m\u001b[38;5;124mexpected\u001b[39m\u001b[38;5;124m'\u001b[39m]\u001b[38;5;132;01m}\u001b[39;00m\u001b[38;5;124m'\u001b[39m\u001b[38;5;124m, got \u001b[39m\u001b[38;5;124m'\u001b[39m\u001b[38;5;132;01m{\u001b[39;00mresult\u001b[38;5;132;01m}\u001b[39;00m\u001b[38;5;124m'\u001b[39m\u001b[38;5;124m\"\u001b[39m\n\u001b[1;32m     42\u001b[0m \u001b[38;5;28mprint\u001b[39m(\u001b[38;5;124m\"\u001b[39m\u001b[38;5;124mAll tests passed!\u001b[39m\u001b[38;5;124m\"\u001b[39m)\n",
      "\u001b[0;31mAssertionError\u001b[0m: Failed match # followed by 2 or more digits: expected 'Ticket NUMBER and reference NUMBER', got 'Ticket 123456 and reference 78'"
     ]
    }
   ],
   "source": [
    "import re\n",
    "import yaml\n",
    "\n",
    "# Load the regex rules from the YAML file\n",
    "with open('/Users/tod/Desktop/text_processing/regex_rules.yaml', 'r') as file:\n",
    "    regex_rules = yaml.safe_load(file)\n",
    "\n",
    "print(\"Loaded regex rules:\", yaml.dump(regex_rules))  # Print the entire content of the YAML file\n",
    "\n",
    "def apply_regex_rules(rules, text):\n",
    "    for rule in rules['regex_rules']:\n",
    "        pattern = re.compile(rf\"{rule['pattern']}\")\n",
    "        print(f\"Applying regex pattern: {pattern.pattern}\")  # Print the regex pattern\n",
    "        text = pattern.sub(rule['replace_with'], text)\n",
    "    return text\n",
    "\n",
    "def test_regex_rules():\n",
    "    tests = [\n",
    "        {\n",
    "            'input': 'This is a \"test\" string.',\n",
    "            'expected': 'This is a test string.',\n",
    "            'description': 'strip quotes'\n",
    "        },\n",
    "        {\n",
    "            'input': 'This is a #test# string.',\n",
    "            'expected': 'This is a test string.',\n",
    "            'description': 'strip hash symbols'\n",
    "        },\n",
    "        {\n",
    "            'input': 'Ticket #123456 and reference #78',\n",
    "            'expected': 'Ticket NUMBER and reference NUMBER',\n",
    "            'description': 'match # followed by 2 or more digits'\n",
    "        }\n",
    "    ]\n",
    "\n",
    "    for test in tests:\n",
    "        print(f\"Testing: {test['description']}\")  # Debugging output\n",
    "        result = apply_regex_rules(regex_rules, test['input'])\n",
    "        print(f\"Result: {result}\")  # Debugging output\n",
    "        assert result == test['expected'], f\"Failed {test['description']}: expected '{test['expected']}', got '{result}'\"\n",
    "\n",
    "    print(\"All tests passed!\")\n",
    "\n",
    "if __name__ == \"__main__\":\n",
    "    test_regex_rules()"
   ]
  },
  {
   "cell_type": "code",
   "execution_count": 27,
   "metadata": {},
   "outputs": [
    {
     "data": {
      "text/plain": [
       "'This is an invoice string.'"
      ]
     },
     "execution_count": 27,
     "metadata": {},
     "output_type": "execute_result"
    }
   ],
   "source": [
    "pattern = re.compile(\"#\\d{2,}\")\n",
    "pattern.sub(\"invoice\", \"This is an #123456 string.\")"
   ]
  }
 ],
 "metadata": {
  "kernelspec": {
   "display_name": "nlp_env",
   "language": "python",
   "name": "python3"
  },
  "language_info": {
   "codemirror_mode": {
    "name": "ipython",
    "version": 3
   },
   "file_extension": ".py",
   "mimetype": "text/x-python",
   "name": "python",
   "nbconvert_exporter": "python",
   "pygments_lexer": "ipython3",
   "version": "3.11.9"
  }
 },
 "nbformat": 4,
 "nbformat_minor": 2
}
